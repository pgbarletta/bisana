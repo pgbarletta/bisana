{
 "cells": [
  {
   "cell_type": "code",
   "execution_count": 3,
   "metadata": {},
   "outputs": [],
   "source": [
    "from modeller import environ, model, selection\n",
    "from modeller.scripts import complete_pdb\n",
    "import numpy as np\n",
    "import os\n",
    "home = \"/home/pbarletta/labo/20/bisana/run/pre_2lao-1lst\"\n",
    "home_10 = \"/home/pbarletta/labo/20/bisana/run/10_2lao-1lst\"\n",
    "rtdos = \"/home/pbarletta/labo/20/bisana/rtdos_log\""
   ]
  },
  {
   "cell_type": "code",
   "execution_count": 6,
   "metadata": {},
   "outputs": [
    {
     "name": "stdout",
     "output_type": "stream",
     "text": [
      "\n",
      "                         MODELLER 9.24, 2020/04/06, r11614\n",
      "\n",
      "     PROTEIN STRUCTURE MODELLING BY SATISFACTION OF SPATIAL RESTRAINTS\n",
      "\n",
      "\n",
      "                     Copyright(c) 1989-2020 Andrej Sali\n",
      "                            All Rights Reserved\n",
      "\n",
      "                             Written by A. Sali\n",
      "                               with help from\n",
      "              B. Webb, M.S. Madhusudhan, M-Y. Shen, G.Q. Dong,\n",
      "          M.A. Marti-Renom, N. Eswar, F. Alber, M. Topf, B. Oliva,\n",
      "             A. Fiser, R. Sanchez, B. Yerkovich, A. Badretdinov,\n",
      "                     F. Melo, J.P. Overington, E. Feyfant\n",
      "                 University of California, San Francisco, USA\n",
      "                    Rockefeller University, New York, USA\n",
      "                      Harvard University, Cambridge, USA\n",
      "                   Imperial Cancer Research Fund, London, UK\n",
      "              Birkbeck College, University of London, London, UK\n",
      "\n",
      "\n",
      "Kind, OS, HostName, Kernel, Processor: 4, Linux pbarletta-xps 5.4.0-53-generic x86_64\n",
      "Date and time of compilation         : 2020/04/06 19:06:24\n",
      "MODELLER executable type             : x86_64-intel8\n",
      "Job starting time (YY/MM/DD HH:MM:SS): 2020/11/16 12:24:28\n",
      "\n",
      "read_to_681_> topology.submodel read from topology file:        3\n"
     ]
    }
   ],
   "source": [
    "e = environ()\n",
    "e.libs.topology.read(file=\"/home/pbarletta/anaconda3/lib/modeller-9.24/modlib/top_heav.lib\")\n",
    "e.libs.parameters.read(file=\"/home/pbarletta/anaconda3/lib/modeller-9.24/modlib/par.lib\")"
   ]
  },
  {
   "cell_type": "code",
   "execution_count": 13,
   "metadata": {},
   "outputs": [],
   "source": [
    "mdl = complete_pdb(e, os.path.join(home, \"pdbs\", \"2lao.pdb\"))\n",
    "mdl.write(file = os.path.join(home_10, \"nohyd_pdbs\", \"h2lao.pdb\"))\n",
    "\n",
    "for i in range(1, 25):\n",
    "    mdl = complete_pdb(e, os.path.join(home, \"pdbs\", \"2lao_\" + str(i) + \".pdb\"))\n",
    "    mdl.write(file = os.path.join(home_10, \"nohyd_pdbs\", \"h2lao_\"  + str(i) + \".pdb\"))"
   ]
  },
  {
   "cell_type": "code",
   "execution_count": null,
   "metadata": {},
   "outputs": [],
   "source": []
  }
 ],
 "metadata": {
  "kernelspec": {
   "display_name": "Python 3",
   "language": "python",
   "name": "python3"
  },
  "language_info": {
   "codemirror_mode": {
    "name": "ipython",
    "version": 3
   },
   "file_extension": ".py",
   "mimetype": "text/x-python",
   "name": "python",
   "nbconvert_exporter": "python",
   "pygments_lexer": "ipython3",
   "version": "3.8.3"
  }
 },
 "nbformat": 4,
 "nbformat_minor": 4
}
