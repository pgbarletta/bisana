{
 "cells": [
  {
   "cell_type": "code",
   "execution_count": 1,
   "metadata": {},
   "outputs": [],
   "source": [
    "using DelimitedFiles, FileIO\n",
    "using Plots, Rsvg, LaTeXStrings\n",
    "using Chemfiles, JUMD, NamedArrays\n",
    "using LinearAlgebra, Statistics"
   ]
  },
  {
   "cell_type": "code",
   "execution_count": 62,
   "metadata": {},
   "outputs": [
    {
     "data": {
      "text/plain": [
       "\"/home/pbarletta/labo/20/bisana/rtdos_log\""
      ]
     },
     "execution_count": 62,
     "metadata": {},
     "output_type": "execute_result"
    }
   ],
   "source": [
    "pdb = \"1f96\"\n",
    "casa_six = string(\"/home/pbarletta/labo/20/bisana/run/top_\", pdb)\n",
    "casa_ca = string(\"/home/pbarletta/labo/20/bisana/run/catop_\", pdb)\n",
    "casa_pca = string(\"/home/pbarletta/labo/20/bisana/run/pca_\", pdb)\n",
    "rtdos = \"/home/pbarletta/labo/20/bisana/rtdos_log\""
   ]
  },
  {
   "cell_type": "code",
   "execution_count": 63,
   "metadata": {},
   "outputs": [
    {
     "data": {
      "text/plain": [
       "3282"
      ]
     },
     "execution_count": 63,
     "metadata": {},
     "output_type": "execute_result"
    }
   ],
   "source": [
    "t = Trajectory(joinpath(casa, \"pdbs\", \"1f96_3.pdb\"))\n",
    "p = read(t)\n",
    "top = Topology(p)\n",
    "resnames = [ name(Residue(top, i)) for i in 0:convert(Int64, count_residues(top))-1 ]\n",
    "atm_cnt = []\n",
    "\n",
    "for i = 1:length(resnames)\n",
    "    if resnames[i] == \"GLY\"\n",
    "        push!(atm_cnt, 4)\n",
    "    elseif resnames[i] == \"ALA\"\n",
    "        push!(atm_cnt, 5)\n",
    "    else\n",
    "        push!(atm_cnt, 6)\n",
    "    end\n",
    "end\n",
    "sum(atm_cnt) * 3"
   ]
  },
  {
   "cell_type": "markdown",
   "metadata": {},
   "source": [
    "Según los residuos, me da q debería haber 3282 elementos, pero los modos tienen 3288.\n",
    "Esto se debe a q las últimas GLY de las cadenas A y B (GLY 85 y GLY 170)\n",
    "\n",
    "Así q yo quiero los rangos 1 a 1485, luego me salteo los 3 elementos de OXT de GLY85,\n",
    "y tomo los elementos 1489 a 2973, descartando ahora a 2974-296, q son los 3 elementos de OXT de GLY170."
   ]
  },
  {
   "cell_type": "code",
   "execution_count": 97,
   "metadata": {},
   "outputs": [
    {
     "data": {
      "text/plain": [
       "1485"
      ]
     },
     "execution_count": 97,
     "metadata": {},
     "output_type": "execute_result"
    }
   ],
   "source": [
    "atm_cnt_chains_AB = []\n",
    "for i = 1:85\n",
    "    if resnames[i] == \"GLY\"\n",
    "        push!(atm_cnt_chains_AB, 4)\n",
    "    elseif resnames[i] == \"ALA\"\n",
    "        push!(atm_cnt_chains_AB, 5)\n",
    "    else\n",
    "        push!(atm_cnt_chains_AB, 6)\n",
    "    end\n",
    "end\n",
    "sum(atm_cnt_chains_AB) * 3"
   ]
  },
  {
   "cell_type": "code",
   "execution_count": 5,
   "metadata": {},
   "outputs": [
    {
     "data": {
      "text/plain": [
       "188"
      ]
     },
     "execution_count": 5,
     "metadata": {},
     "output_type": "execute_result"
    }
   ],
   "source": [
    "length(resnames)"
   ]
  },
  {
   "cell_type": "markdown",
   "metadata": {},
   "source": [
    "## Determino la distancia de cutoff óptima comparando con los PCA"
   ]
  },
  {
   "cell_type": "markdown",
   "metadata": {},
   "source": [
    "### C alpha"
   ]
  },
  {
   "cell_type": "code",
   "execution_count": 114,
   "metadata": {},
   "outputs": [
    {
     "name": "stdout",
     "output_type": "stream",
     "text": [
      " --- CA ---\n",
      "Cutoff: 7 - ζ: 0.37601456188699184\n",
      " --- CA ---\n",
      "Cutoff: 8 - ζ: 0.44054807178408134\n",
      " --- CA ---\n",
      "Cutoff: 9 - ζ: 0.45749894868649604\n",
      " --- CA ---\n",
      "Cutoff: 10 - ζ: 0.43778997252309787\n",
      " --- CA ---\n",
      "Cutoff: 11 - ζ: 0.44675490952268415\n",
      " --- CA ---\n",
      "Cutoff: 12 - ζ: 0.43005065874232107\n",
      " --- CA ---\n",
      "Cutoff: 13 - ζ: 0.46271097580320075\n",
      " --- CA ---\n",
      "Cutoff: 14 - ζ: 0.46448678296706386\n",
      " --- CA ---\n",
      "Cutoff: 15 - ζ: 0.49533836656000096\n",
      " --- CA ---\n",
      "Cutoff: 16 - ζ: 0.45029967180470426\n",
      " --- CA ---\n",
      "Cutoff: 17 - ζ: 0.4902425493950662\n",
      " --- CA ---\n",
      "Cutoff: 18 - ζ: 0.4478694774046354\n",
      " --- CA ---\n",
      "Cutoff: 19 - ζ: 0.43979684514625095\n",
      " --- CA ---\n",
      "Cutoff: 20 - ζ: 0.3945793291101343\n"
     ]
    }
   ],
   "source": [
    "modes_pca, evals_pca = JUMD.readPtrajModes(joinpath(casa_pca,\n",
    "        string(\"modes_\", pdb)))\n",
    "\n",
    "for coff in 7:20\n",
    "    modos_ca = convert(Array{Float64, 2}, readdlm(joinpath(casa_ca,\n",
    "                \"eigenvectors\", string(coff, \"_modos_1f96\"))));\n",
    "    # Renormalizo\n",
    "    [ modos_ca[:, i] = modos_ca[:, i] ./ norm(modos_ca[:, i]) for i = 1:size(modos_ca)[2] ]\n",
    "    \n",
    "    P = transpose(modes_f96[:, 1:10]) * modos_ca\n",
    "    G = transpose(P) * P\n",
    "    println(\" --- CA ---\")\n",
    "    println(\"Cutoff: \", coff, \" - ζ: \", mean(eigen(G).values))\n",
    "end"
   ]
  },
  {
   "cell_type": "markdown",
   "metadata": {},
   "source": [
    "### C 6 partículas"
   ]
  },
  {
   "cell_type": "code",
   "execution_count": 115,
   "metadata": {},
   "outputs": [
    {
     "name": "stderr",
     "output_type": "stream",
     "text": [
      "┌ Warning: space group which is not P1 () ignored in '/home/pbarletta/labo/20/bisana/run/top_1f96/flx/het_top_1f96.pdb'\n",
      "└ @ Chemfiles /home/pbarletta/.julia/packages/Chemfiles/uJPdJ/src/misc.jl:30\n"
     ]
    },
    {
     "data": {
      "text/plain": [
       "2970"
      ]
     },
     "execution_count": 115,
     "metadata": {},
     "output_type": "execute_result"
    }
   ],
   "source": [
    "t = Trajectory(joinpath(casa_six, \"flx\", \"het_top_1f96.pdb\"))\n",
    "p = read(t)\n",
    "top = Topology(p)\n",
    "resnames = [ name(Residue(top, i)) for i in 0:convert(Int64, count_residues(top))-1 ]\n",
    "atm_cnt = [0]\n",
    "idx_ca = []\n",
    "\n",
    "# El CA siempre es el 2do átomo del residuo. sum(atm_cnt) me da el índice del N (el 1ero),\n",
    "# le sumo 3 y obtengo el del CA.\n",
    "for i = 1:length(resnames)\n",
    "    if resnames[i] == \"GLY\"        \n",
    "        idx = sum(atm_cnt) * 3 + 3\n",
    "        push!(idx_ca, idx + 1)\n",
    "        push!(idx_ca, idx + 2)\n",
    "        push!(idx_ca, idx + 3)\n",
    "        \n",
    "        push!(atm_cnt, 4)\n",
    "    elseif resnames[i] == \"ALA\"\n",
    "        idx = sum(atm_cnt) * 3 + 3\n",
    "        push!(idx_ca, idx + 1)\n",
    "        push!(idx_ca, idx + 2)\n",
    "        push!(idx_ca, idx + 3)\n",
    "        \n",
    "        push!(atm_cnt, 5)\n",
    "    else\n",
    "        idx = sum(atm_cnt) * 3 + 3\n",
    "        push!(idx_ca, idx + 1)\n",
    "        push!(idx_ca, idx + 2)\n",
    "        push!(idx_ca, idx + 3)\n",
    "        \n",
    "        push!(atm_cnt, 6)\n",
    "    end\n",
    "end\n",
    "sum(atm_cnt) * 3"
   ]
  },
  {
   "cell_type": "code",
   "execution_count": 79,
   "metadata": {},
   "outputs": [
    {
     "name": "stderr",
     "output_type": "stream",
     "text": [
      "┌ Warning: space group which is not P1 () ignored in '/home/pbarletta/labo/20/bisana/run/top_1f96/flx/het_top_1f96.pdb'\n",
      "└ @ Chemfiles /home/pbarletta/.julia/packages/Chemfiles/uJPdJ/src/misc.jl:30\n"
     ]
    }
   ],
   "source": [
    "t = Trajectory(joinpath(casa_six, \"flx\", \"het_top_1f96.pdb\"))\n",
    "p = read(t)\n",
    "top = Topology(p)\n",
    "idx_ca = Array{Int64, 1}()\n",
    "for i = 1:size(top)\n",
    "    atm = Atom(top, i-1)\n",
    "    if name(atm) == \"CA\"\n",
    "        push!(idx_ca, i)\n",
    "    end\n",
    "end\n",
    "idx_ca_3 = JUMD.triple(idx_ca);"
   ]
  },
  {
   "cell_type": "code",
   "execution_count": 126,
   "metadata": {},
   "outputs": [
    {
     "name": "stdout",
     "output_type": "stream",
     "text": [
      " --- six ---\n",
      "Cutoff: 4 - ζ: 1.265594826978443e-5\n",
      " --- six ---\n",
      "Cutoff: 5 - ζ: 0.6650166833728567\n",
      " --- six ---\n",
      "Cutoff: 6 - ζ: 0.6955570029609807\n",
      " --- six ---\n",
      "Cutoff: 7 - ζ: 0.6191542038065495\n",
      " --- six ---\n",
      "Cutoff: 8 - ζ: 0.5973492703306712\n",
      " --- six ---\n",
      "Cutoff: 9 - ζ: 0.5546516706718516\n",
      " --- six ---\n",
      "Cutoff: 10 - ζ: 0.521711271096965\n",
      " --- six ---\n",
      "Cutoff: 11 - ζ: 0.5792446604233523\n",
      " --- six ---\n",
      "Cutoff: 12 - ζ: 0.5899863749718068\n",
      " --- six ---\n",
      "Cutoff: 13 - ζ: 0.6117269565855507\n"
     ]
    }
   ],
   "source": [
    "modes_pca, evals_pca = JUMD.readPtrajModes(joinpath(casa_pca,\n",
    "        string(\"modes_\", pdb)))\n",
    "\n",
    "for coff in 4:13\n",
    "    modos_six = convert(Array{Float64, 2}, readdlm(joinpath(casa_six,\n",
    "                \"eigenvectors\", string(coff, \"_modos_1f96\")))[idx_ca, :])\n",
    "    \n",
    "    # Renormalizo\n",
    "    [ modos_six[:, i] = modos_six[:, i] ./ norm(modos_six[:, i]) for i = 1:size(modos_six)[2] ]\n",
    "    \n",
    "    P = transpose(modes_f96[:, 1:10]) * modos_six\n",
    "    G = transpose(P) * P\n",
    "    println(\" --- six ---\")\n",
    "    println(\"Cutoff: \", coff, \" - ζ: \", mean(eigen(G).values))\n",
    "end"
   ]
  }
 ],
 "metadata": {
  "kernelspec": {
   "display_name": "Julia 1.5.0",
   "language": "julia",
   "name": "julia-1.5"
  },
  "language_info": {
   "file_extension": ".jl",
   "mimetype": "application/julia",
   "name": "julia",
   "version": "1.5.0"
  }
 },
 "nbformat": 4,
 "nbformat_minor": 4
}
